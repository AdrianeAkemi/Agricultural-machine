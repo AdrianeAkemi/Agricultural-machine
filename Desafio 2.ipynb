{
 "cells": [
  {
   "cell_type": "markdown",
   "id": "f59dc784",
   "metadata": {
    "toc": true
   },
   "source": [
    "<h1>Table of Contents<span class=\"tocSkip\"></span></h1>\n",
    "<div class=\"toc\"><ul class=\"toc-item\"><li><span><a href=\"#Dicionário-de-dados\" data-toc-modified-id=\"Dicionário-de-dados-1\"><span class=\"toc-item-num\">1&nbsp;&nbsp;</span>Dicionário de dados</a></span></li><li><span><a href=\"#Limpeza-e-tratamento-dos-dados\" data-toc-modified-id=\"Limpeza-e-tratamento-dos-dados-2\"><span class=\"toc-item-num\">2&nbsp;&nbsp;</span>Limpeza e tratamento dos dados</a></span><ul class=\"toc-item\"><li><span><a href=\"#Dados-duplicados\" data-toc-modified-id=\"Dados-duplicados-2.1\"><span class=\"toc-item-num\">2.1&nbsp;&nbsp;</span>Dados duplicados</a></span></li><li><span><a href=\"#Dados-ausentes\" data-toc-modified-id=\"Dados-ausentes-2.2\"><span class=\"toc-item-num\">2.2&nbsp;&nbsp;</span>Dados ausentes</a></span></li></ul></li></ul></div>"
   ]
  },
  {
   "cell_type": "markdown",
   "id": "b85945d0",
   "metadata": {},
   "source": [
    "# Introdução"
   ]
  },
  {
   "cell_type": "markdown",
   "id": "3edd7f85",
   "metadata": {},
   "source": [
    "O conjunto de dados ChoiceBehaviour.csv contém informações sobre a escolha de um agricultor em relação ao aluguel de maquinaria oferecida por uma mesma companhia. Os dados abrangem 4910 agricultores que precisavam decidir entre três opções de máquinas para aluguel, além da possibilidade de não alugar nenhuma delas. Esses dados simulados são compostos por 11 atributos. \n",
    "\n",
    "O analista da companhia possui informações relevantes sobre o cliente, como a região de residência do agricultor, os custos de aluguel de cada máquina oferecida, o custo do produto e o preço da máquina base. Porém, essas informações são desconhecidas pelo agricultor. Por sua vez, o agricultor tem acesso apenas à informação do custo para a reparação e aos preços de aluguel das máquinas oferecidas.\n",
    "\n",
    "Nessa fase inicial de análise, nosso objetivo é compreender as variáveis disponíveis e o problema em questão, a fim de explorar possíveis abordagens sob a perspectiva da empresa. Essa análise mais aprofundada das informações nos ajudará a tomar decisões estratégicas e embasadas, visando otimizar o processo de aluguel de máquinas oferecidas aos trabalhadores rurais."
   ]
  },
  {
   "cell_type": "markdown",
   "id": "654e2a06",
   "metadata": {},
   "source": [
    "<img src=\"data/maquinas.png\" \n",
    "     align=\"center\" \n",
    "     width=\"500\" />"
   ]
  },
  {
   "cell_type": "markdown",
   "id": "bf35398b",
   "metadata": {},
   "source": [
    "## Dicionário de dados"
   ]
  },
  {
   "cell_type": "markdown",
   "id": "b98398fb",
   "metadata": {},
   "source": [
    "A seguir, ilustramos o dicionário desses dados:\n",
    "\n",
    "- Regiao: Local onde o agricultor reside.\n",
    "- Prima: Valor que o agricultor precisa pagar para a reparação da máquina.\n",
    "- CustoProduto: Custo estimado da maquinaria no momento do aluguel para o agricultor.\n",
    "- Pmáquinabase: Preço do aluguel da máquina base para dar cobertura ao assegurado.\n",
    "- Pmáquina1: Preço do aluguel da máquina 1 oferecido ao agricultor.\n",
    "- Pmáquina2: Preço do aluguel da máquina 2 oferecido ao agricultor.\n",
    "- Pmáquina3: Preço do aluguel da máquina 3 oferecido ao agricultor.\n",
    "- Cmáquina1: Custo do aluguel da máquina 1 oferecido ao agricultor.\n",
    "- Cmáquina2: Custo do aluguel da máquina 2 oferecido ao agricultor.\n",
    "- Cmáquina3: Custo do aluguel da máquina 3 oferecido ao agricultor.\n",
    "- Resposta: Indicador da escolha do agricultor, sendo 1 para aluguel da máquina 1, 2 para aluguel da máquina 2, 3 para aluguel da máquina 3 e 0 para o caso em que o agricultor decide não alugar nenhuma máquina oferecida.\n",
    "- Resposta2: Outro indicador da escolha do agricultor, onde 1 representa o aluguel de uma máquina e 0 indica que o agricultor não alugou nenhuma máquina.\n",
    "\n",
    "Esses dados oferecem insights valiosos sobre o comportamento de escolha dos agricultores em relação às opções de aluguel de maquinaria. Através de análises e modelos estatísticos, é possível explorar padrões e tomar decisões informadas para otimizar o processo de locaçao dessas máquinas."
   ]
  },
  {
   "cell_type": "markdown",
   "id": "37c8e6f8",
   "metadata": {},
   "source": [
    "# Importação das bibliotecas e leitura dos dados"
   ]
  },
  {
   "cell_type": "code",
   "execution_count": 1,
   "id": "2193b5f9",
   "metadata": {},
   "outputs": [
    {
     "name": "stdout",
     "output_type": "stream",
     "text": [
      "Requirement already satisfied: catboost in c:\\users\\dell\\anaconda3\\lib\\site-packages (1.2)\n",
      "Requirement already satisfied: six in c:\\users\\dell\\anaconda3\\lib\\site-packages (from catboost) (1.16.0)\n",
      "Requirement already satisfied: matplotlib in c:\\users\\dell\\anaconda3\\lib\\site-packages (from catboost) (3.5.2)\n",
      "Requirement already satisfied: plotly in c:\\users\\dell\\anaconda3\\lib\\site-packages (from catboost) (5.9.0)\n",
      "Requirement already satisfied: scipy in c:\\users\\dell\\anaconda3\\lib\\site-packages (from catboost) (1.7.1)\n",
      "Requirement already satisfied: numpy>=1.16.0 in c:\\users\\dell\\anaconda3\\lib\\site-packages (from catboost) (1.20.3)\n",
      "Requirement already satisfied: pandas>=0.24 in c:\\users\\dell\\anaconda3\\lib\\site-packages (from catboost) (1.4.4)\n",
      "Requirement already satisfied: graphviz in c:\\users\\dell\\anaconda3\\lib\\site-packages (from catboost) (0.20.1)\n",
      "Requirement already satisfied: pytz>=2020.1 in c:\\users\\dell\\anaconda3\\lib\\site-packages (from pandas>=0.24->catboost) (2021.3)\n",
      "Requirement already satisfied: python-dateutil>=2.8.1 in c:\\users\\dell\\anaconda3\\lib\\site-packages (from pandas>=0.24->catboost) (2.8.2)\n",
      "Requirement already satisfied: kiwisolver>=1.0.1 in c:\\users\\dell\\anaconda3\\lib\\site-packages (from matplotlib->catboost) (1.3.1)\n",
      "Requirement already satisfied: cycler>=0.10 in c:\\users\\dell\\anaconda3\\lib\\site-packages (from matplotlib->catboost) (0.10.0)\n",
      "Requirement already satisfied: pillow>=6.2.0 in c:\\users\\dell\\anaconda3\\lib\\site-packages (from matplotlib->catboost) (8.4.0)\n",
      "Requirement already satisfied: pyparsing>=2.2.1 in c:\\users\\dell\\anaconda3\\lib\\site-packages (from matplotlib->catboost) (3.0.4)\n",
      "Requirement already satisfied: fonttools>=4.22.0 in c:\\users\\dell\\anaconda3\\lib\\site-packages (from matplotlib->catboost) (4.25.0)\n",
      "Requirement already satisfied: packaging>=20.0 in c:\\users\\dell\\anaconda3\\lib\\site-packages (from matplotlib->catboost) (21.0)\n",
      "Requirement already satisfied: tenacity>=6.2.0 in c:\\users\\dell\\anaconda3\\lib\\site-packages (from plotly->catboost) (8.0.1)\n",
      "Note: you may need to restart the kernel to use updated packages.\n"
     ]
    }
   ],
   "source": [
    "import pandas as pd\n",
    "import numpy as np\n",
    "import plotly.express as px\n",
    "from sklearn.decomposition import PCA\n",
    "from sklearn.preprocessing import StandardScaler\n",
    "from scipy import stats\n",
    "import seaborn as sns\n",
    "import matplotlib.pyplot as plt\n",
    "%pip install catboost\n",
    "import catboost as cb\n",
    "import warnings\n",
    "warnings.filterwarnings(\"ignore\")\n",
    "from sklearn.cluster import KMeans\n",
    "from sklearn.model_selection import train_test_split\n",
    "from sklearn.model_selection import RepeatedStratifiedKFold\n",
    "from sklearn.preprocessing import MinMaxScaler\n",
    "from sklearn import metrics\n",
    "import random\n",
    "random.seed(5143023)\n",
    "# from google.colab import drive\n",
    "import os\n",
    "\n",
    "# drive.mount('/content/gdrive/', force_remount=True)\n",
    "# path = '/content/gdrive/MyDrive/7º Semestre/Mineração/Desafio 2'\n",
    "\n",
    "# os.chdir(path= path)\n",
    "data = pd.read_excel(\"data/ChoiceBehaviour.xlsx\", dtype={'Regiao':str, 'Id': str, 'Resposta': str})"
   ]
  },
  {
   "cell_type": "code",
   "execution_count": 2,
   "id": "fb8c4483",
   "metadata": {},
   "outputs": [
    {
     "name": "stdout",
     "output_type": "stream",
     "text": [
      "O dataframe possui 4910 linhas e 12 colunas.\n"
     ]
    },
    {
     "data": {
      "text/html": [
       "<div>\n",
       "<style scoped>\n",
       "    .dataframe tbody tr th:only-of-type {\n",
       "        vertical-align: middle;\n",
       "    }\n",
       "\n",
       "    .dataframe tbody tr th {\n",
       "        vertical-align: top;\n",
       "    }\n",
       "\n",
       "    .dataframe thead th {\n",
       "        text-align: right;\n",
       "    }\n",
       "</style>\n",
       "<table border=\"1\" class=\"dataframe\">\n",
       "  <thead>\n",
       "    <tr style=\"text-align: right;\">\n",
       "      <th></th>\n",
       "      <th>Id</th>\n",
       "      <th>Regiao</th>\n",
       "      <th>Prima</th>\n",
       "      <th>CustoProduto</th>\n",
       "      <th>Pmaquinabase</th>\n",
       "      <th>Pmaquina1</th>\n",
       "      <th>Pmaquina2</th>\n",
       "      <th>Pmaquina3</th>\n",
       "      <th>Cmaquina1</th>\n",
       "      <th>Cmaquina2</th>\n",
       "      <th>Cmaquina3</th>\n",
       "      <th>Resposta</th>\n",
       "    </tr>\n",
       "  </thead>\n",
       "  <tbody>\n",
       "    <tr>\n",
       "      <th>0</th>\n",
       "      <td>1</td>\n",
       "      <td>560</td>\n",
       "      <td>5073</td>\n",
       "      <td>15742.0</td>\n",
       "      <td>858.20</td>\n",
       "      <td>1268.82</td>\n",
       "      <td>1564.31</td>\n",
       "      <td>1748.41</td>\n",
       "      <td>959.199559</td>\n",
       "      <td>858.20</td>\n",
       "      <td>696.090496</td>\n",
       "      <td>1</td>\n",
       "    </tr>\n",
       "    <tr>\n",
       "      <th>1</th>\n",
       "      <td>2</td>\n",
       "      <td>558</td>\n",
       "      <td>1618</td>\n",
       "      <td>33277.0</td>\n",
       "      <td>1008.85</td>\n",
       "      <td>1411.35</td>\n",
       "      <td>1457.82</td>\n",
       "      <td>1583.61</td>\n",
       "      <td>1095.900007</td>\n",
       "      <td>1008.85</td>\n",
       "      <td>976.691531</td>\n",
       "      <td>1</td>\n",
       "    </tr>\n",
       "    <tr>\n",
       "      <th>2</th>\n",
       "      <td>3</td>\n",
       "      <td>554</td>\n",
       "      <td>1520</td>\n",
       "      <td>37175.0</td>\n",
       "      <td>910.08</td>\n",
       "      <td>1409.37</td>\n",
       "      <td>1575.85</td>\n",
       "      <td>1630.02</td>\n",
       "      <td>941.364090</td>\n",
       "      <td>910.08</td>\n",
       "      <td>813.934987</td>\n",
       "      <td>1</td>\n",
       "    </tr>\n",
       "    <tr>\n",
       "      <th>3</th>\n",
       "      <td>4</td>\n",
       "      <td>555</td>\n",
       "      <td>2238</td>\n",
       "      <td>58449.0</td>\n",
       "      <td>2218.16</td>\n",
       "      <td>3163.57</td>\n",
       "      <td>4220.16</td>\n",
       "      <td>4350.34</td>\n",
       "      <td>2286.583962</td>\n",
       "      <td>2218.16</td>\n",
       "      <td>1662.805304</td>\n",
       "      <td>1</td>\n",
       "    </tr>\n",
       "    <tr>\n",
       "      <th>4</th>\n",
       "      <td>5</td>\n",
       "      <td>554</td>\n",
       "      <td>3781</td>\n",
       "      <td>10349.0</td>\n",
       "      <td>628.48</td>\n",
       "      <td>1101.97</td>\n",
       "      <td>1398.68</td>\n",
       "      <td>1705.71</td>\n",
       "      <td>766.440230</td>\n",
       "      <td>628.48</td>\n",
       "      <td>495.156938</td>\n",
       "      <td>1</td>\n",
       "    </tr>\n",
       "  </tbody>\n",
       "</table>\n",
       "</div>"
      ],
      "text/plain": [
       "  Id Regiao  Prima  CustoProduto  Pmaquinabase  Pmaquina1  Pmaquina2  \\\n",
       "0  1    560   5073       15742.0        858.20    1268.82    1564.31   \n",
       "1  2    558   1618       33277.0       1008.85    1411.35    1457.82   \n",
       "2  3    554   1520       37175.0        910.08    1409.37    1575.85   \n",
       "3  4    555   2238       58449.0       2218.16    3163.57    4220.16   \n",
       "4  5    554   3781       10349.0        628.48    1101.97    1398.68   \n",
       "\n",
       "   Pmaquina3    Cmaquina1  Cmaquina2    Cmaquina3 Resposta  \n",
       "0    1748.41   959.199559     858.20   696.090496        1  \n",
       "1    1583.61  1095.900007    1008.85   976.691531        1  \n",
       "2    1630.02   941.364090     910.08   813.934987        1  \n",
       "3    4350.34  2286.583962    2218.16  1662.805304        1  \n",
       "4    1705.71   766.440230     628.48   495.156938        1  "
      ]
     },
     "execution_count": 2,
     "metadata": {},
     "output_type": "execute_result"
    }
   ],
   "source": [
    "print(f\"O dataframe possui {data.shape[0]} linhas e {data.shape[1]} colunas.\")\n",
    "data.head()"
   ]
  },
  {
   "cell_type": "markdown",
   "id": "1f452381",
   "metadata": {},
   "source": [
    "Podemos verificar os tipos de cada variável e a quantidade de valores não nulos:"
   ]
  },
  {
   "cell_type": "code",
   "execution_count": 3,
   "id": "1b8682d9",
   "metadata": {},
   "outputs": [
    {
     "name": "stdout",
     "output_type": "stream",
     "text": [
      "<class 'pandas.core.frame.DataFrame'>\n",
      "RangeIndex: 4910 entries, 0 to 4909\n",
      "Data columns (total 12 columns):\n",
      " #   Column        Non-Null Count  Dtype  \n",
      "---  ------        --------------  -----  \n",
      " 0   Id            4910 non-null   object \n",
      " 1   Regiao        4910 non-null   object \n",
      " 2   Prima         4910 non-null   int64  \n",
      " 3   CustoProduto  4910 non-null   float64\n",
      " 4   Pmaquinabase  4910 non-null   float64\n",
      " 5   Pmaquina1     4910 non-null   float64\n",
      " 6   Pmaquina2     4910 non-null   float64\n",
      " 7   Pmaquina3     4910 non-null   float64\n",
      " 8   Cmaquina1     4910 non-null   float64\n",
      " 9   Cmaquina2     4910 non-null   float64\n",
      " 10  Cmaquina3     4910 non-null   float64\n",
      " 11  Resposta      4910 non-null   object \n",
      "dtypes: float64(8), int64(1), object(3)\n",
      "memory usage: 460.4+ KB\n"
     ]
    }
   ],
   "source": [
    "data.info()"
   ]
  },
  {
   "cell_type": "markdown",
   "id": "89fbaf82",
   "metadata": {},
   "source": [
    "## Limpeza e tratamento dos dados"
   ]
  },
  {
   "cell_type": "markdown",
   "id": "c89cc6ac",
   "metadata": {},
   "source": [
    "### Dados duplicados"
   ]
  },
  {
   "cell_type": "markdown",
   "id": "754bd551",
   "metadata": {},
   "source": [
    "Realizamos uma checagem em nosso conjunto de dados a fim de identificar e lidar com possíveis inconsistências provenientes de dados duplicados. Para preservar a integridade dos dados originais, criamos uma cópia do DataFrame antes de prosseguir com a verificação.\n",
    "\n",
    "Durante o processo, uma nova coluna chamada \"check_dup\" foi adicionada ao DataFrame, recebendo valores booleanos que indicam se cada linha está duplicada ou não. Utilizamos a função \"duplicated()\" para garantir que todas as ocorrências duplicadas fossem marcadas como \"True\" por meio do argumento \"keep=False\".\n",
    "\n",
    "Por fim, realizamos uma filtragem utilizando a função \"query()\" para selecionar apenas as linhas em que \"check_dup\" é igual a \"True\", ou seja, aquelas em que ocorrem duplicações. Essas linhas duplicadas são retornadas como resultado da consulta, permitindo que sejam tratadas conforme necessário.\n",
    "\n"
   ]
  },
  {
   "cell_type": "code",
   "execution_count": 4,
   "id": "8a54bd55",
   "metadata": {},
   "outputs": [
    {
     "data": {
      "text/html": [
       "<div>\n",
       "<style scoped>\n",
       "    .dataframe tbody tr th:only-of-type {\n",
       "        vertical-align: middle;\n",
       "    }\n",
       "\n",
       "    .dataframe tbody tr th {\n",
       "        vertical-align: top;\n",
       "    }\n",
       "\n",
       "    .dataframe thead th {\n",
       "        text-align: right;\n",
       "    }\n",
       "</style>\n",
       "<table border=\"1\" class=\"dataframe\">\n",
       "  <thead>\n",
       "    <tr style=\"text-align: right;\">\n",
       "      <th></th>\n",
       "      <th>Id</th>\n",
       "      <th>Regiao</th>\n",
       "      <th>Prima</th>\n",
       "      <th>CustoProduto</th>\n",
       "      <th>Pmaquinabase</th>\n",
       "      <th>Pmaquina1</th>\n",
       "      <th>Pmaquina2</th>\n",
       "      <th>Pmaquina3</th>\n",
       "      <th>Cmaquina1</th>\n",
       "      <th>Cmaquina2</th>\n",
       "      <th>Cmaquina3</th>\n",
       "      <th>Resposta</th>\n",
       "      <th>check_dup</th>\n",
       "    </tr>\n",
       "  </thead>\n",
       "  <tbody>\n",
       "    <tr>\n",
       "      <th>3368</th>\n",
       "      <td>3310</td>\n",
       "      <td>557</td>\n",
       "      <td>3362</td>\n",
       "      <td>88275.0</td>\n",
       "      <td>1119.98</td>\n",
       "      <td>2223.01</td>\n",
       "      <td>2652.0</td>\n",
       "      <td>2774.86</td>\n",
       "      <td>1171.86565</td>\n",
       "      <td>1119.98</td>\n",
       "      <td>938.810988</td>\n",
       "      <td>0</td>\n",
       "      <td>True</td>\n",
       "    </tr>\n",
       "    <tr>\n",
       "      <th>3369</th>\n",
       "      <td>3310</td>\n",
       "      <td>557</td>\n",
       "      <td>3362</td>\n",
       "      <td>88275.0</td>\n",
       "      <td>1119.98</td>\n",
       "      <td>2223.01</td>\n",
       "      <td>2652.0</td>\n",
       "      <td>2774.86</td>\n",
       "      <td>1171.86565</td>\n",
       "      <td>1119.98</td>\n",
       "      <td>938.810988</td>\n",
       "      <td>0</td>\n",
       "      <td>True</td>\n",
       "    </tr>\n",
       "  </tbody>\n",
       "</table>\n",
       "</div>"
      ],
      "text/plain": [
       "        Id Regiao  Prima  CustoProduto  Pmaquinabase  Pmaquina1  Pmaquina2  \\\n",
       "3368  3310    557   3362       88275.0       1119.98    2223.01     2652.0   \n",
       "3369  3310    557   3362       88275.0       1119.98    2223.01     2652.0   \n",
       "\n",
       "      Pmaquina3   Cmaquina1  Cmaquina2   Cmaquina3 Resposta  check_dup  \n",
       "3368    2774.86  1171.86565    1119.98  938.810988        0       True  \n",
       "3369    2774.86  1171.86565    1119.98  938.810988        0       True  "
      ]
     },
     "execution_count": 4,
     "metadata": {},
     "output_type": "execute_result"
    }
   ],
   "source": [
    "# Verifica a existência de dados duplicados\n",
    "data_aux = data.copy()\n",
    "data_aux['check_dup'] = data_aux.duplicated(keep=False)\n",
    "\n",
    "# Aponta onde ocorreu a anomalia \n",
    "data_aux.query(\"check_dup == True\")"
   ]
  },
  {
   "cell_type": "markdown",
   "id": "588e0a6d",
   "metadata": {},
   "source": [
    "Notamos que existem dados duplicados na base. Dessa forma, decidimos removê-los."
   ]
  },
  {
   "cell_type": "code",
   "execution_count": 5,
   "id": "e062e42a",
   "metadata": {},
   "outputs": [
    {
     "name": "stdout",
     "output_type": "stream",
     "text": [
      "O dataframe possui 4909 linhas e 12 colunas.\n"
     ]
    },
    {
     "data": {
      "text/html": [
       "<div>\n",
       "<style scoped>\n",
       "    .dataframe tbody tr th:only-of-type {\n",
       "        vertical-align: middle;\n",
       "    }\n",
       "\n",
       "    .dataframe tbody tr th {\n",
       "        vertical-align: top;\n",
       "    }\n",
       "\n",
       "    .dataframe thead th {\n",
       "        text-align: right;\n",
       "    }\n",
       "</style>\n",
       "<table border=\"1\" class=\"dataframe\">\n",
       "  <thead>\n",
       "    <tr style=\"text-align: right;\">\n",
       "      <th></th>\n",
       "      <th>Id</th>\n",
       "      <th>Regiao</th>\n",
       "      <th>Prima</th>\n",
       "      <th>CustoProduto</th>\n",
       "      <th>Pmaquinabase</th>\n",
       "      <th>Pmaquina1</th>\n",
       "      <th>Pmaquina2</th>\n",
       "      <th>Pmaquina3</th>\n",
       "      <th>Cmaquina1</th>\n",
       "      <th>Cmaquina2</th>\n",
       "      <th>Cmaquina3</th>\n",
       "      <th>Resposta</th>\n",
       "    </tr>\n",
       "  </thead>\n",
       "  <tbody>\n",
       "    <tr>\n",
       "      <th>0</th>\n",
       "      <td>1</td>\n",
       "      <td>560</td>\n",
       "      <td>5073</td>\n",
       "      <td>15742.0</td>\n",
       "      <td>858.20</td>\n",
       "      <td>1268.82</td>\n",
       "      <td>1564.31</td>\n",
       "      <td>1748.41</td>\n",
       "      <td>959.199559</td>\n",
       "      <td>858.20</td>\n",
       "      <td>696.090496</td>\n",
       "      <td>1</td>\n",
       "    </tr>\n",
       "    <tr>\n",
       "      <th>1</th>\n",
       "      <td>2</td>\n",
       "      <td>558</td>\n",
       "      <td>1618</td>\n",
       "      <td>33277.0</td>\n",
       "      <td>1008.85</td>\n",
       "      <td>1411.35</td>\n",
       "      <td>1457.82</td>\n",
       "      <td>1583.61</td>\n",
       "      <td>1095.900007</td>\n",
       "      <td>1008.85</td>\n",
       "      <td>976.691531</td>\n",
       "      <td>1</td>\n",
       "    </tr>\n",
       "    <tr>\n",
       "      <th>2</th>\n",
       "      <td>3</td>\n",
       "      <td>554</td>\n",
       "      <td>1520</td>\n",
       "      <td>37175.0</td>\n",
       "      <td>910.08</td>\n",
       "      <td>1409.37</td>\n",
       "      <td>1575.85</td>\n",
       "      <td>1630.02</td>\n",
       "      <td>941.364090</td>\n",
       "      <td>910.08</td>\n",
       "      <td>813.934987</td>\n",
       "      <td>1</td>\n",
       "    </tr>\n",
       "    <tr>\n",
       "      <th>3</th>\n",
       "      <td>4</td>\n",
       "      <td>555</td>\n",
       "      <td>2238</td>\n",
       "      <td>58449.0</td>\n",
       "      <td>2218.16</td>\n",
       "      <td>3163.57</td>\n",
       "      <td>4220.16</td>\n",
       "      <td>4350.34</td>\n",
       "      <td>2286.583962</td>\n",
       "      <td>2218.16</td>\n",
       "      <td>1662.805304</td>\n",
       "      <td>1</td>\n",
       "    </tr>\n",
       "    <tr>\n",
       "      <th>4</th>\n",
       "      <td>5</td>\n",
       "      <td>554</td>\n",
       "      <td>3781</td>\n",
       "      <td>10349.0</td>\n",
       "      <td>628.48</td>\n",
       "      <td>1101.97</td>\n",
       "      <td>1398.68</td>\n",
       "      <td>1705.71</td>\n",
       "      <td>766.440230</td>\n",
       "      <td>628.48</td>\n",
       "      <td>495.156938</td>\n",
       "      <td>1</td>\n",
       "    </tr>\n",
       "  </tbody>\n",
       "</table>\n",
       "</div>"
      ],
      "text/plain": [
       "  Id Regiao  Prima  CustoProduto  Pmaquinabase  Pmaquina1  Pmaquina2  \\\n",
       "0  1    560   5073       15742.0        858.20    1268.82    1564.31   \n",
       "1  2    558   1618       33277.0       1008.85    1411.35    1457.82   \n",
       "2  3    554   1520       37175.0        910.08    1409.37    1575.85   \n",
       "3  4    555   2238       58449.0       2218.16    3163.57    4220.16   \n",
       "4  5    554   3781       10349.0        628.48    1101.97    1398.68   \n",
       "\n",
       "   Pmaquina3    Cmaquina1  Cmaquina2    Cmaquina3 Resposta  \n",
       "0    1748.41   959.199559     858.20   696.090496        1  \n",
       "1    1583.61  1095.900007    1008.85   976.691531        1  \n",
       "2    1630.02   941.364090     910.08   813.934987        1  \n",
       "3    4350.34  2286.583962    2218.16  1662.805304        1  \n",
       "4    1705.71   766.440230     628.48   495.156938        1  "
      ]
     },
     "execution_count": 5,
     "metadata": {},
     "output_type": "execute_result"
    }
   ],
   "source": [
    "# Remove dados duplicados\n",
    "data.drop_duplicates(inplace= True, ignore_index= True)\n",
    "\n",
    "# Mostramos o tamanho do dataframe após o tratamento\n",
    "print(f\"O dataframe possui {data.shape[0]} linhas e {data.shape[1]} colunas.\")\n",
    "data.head()"
   ]
  },
  {
   "cell_type": "markdown",
   "id": "7a462f36",
   "metadata": {},
   "source": [
    "Essa abordagem de verificação e identificação de dados duplicados é fundamental para garantir a qualidade e a confiabilidade dos dados utilizados em análises posteriores, contribuindo para uma tomada de decisão mais precisa e embasada."
   ]
  },
  {
   "cell_type": "markdown",
   "id": "e835791e",
   "metadata": {},
   "source": [
    "### Dados ausentes"
   ]
  },
  {
   "cell_type": "markdown",
   "id": "d49fce5a",
   "metadata": {},
   "source": [
    "Também verificamos que neste conjunto de dados não possui nenhum valor faltante. Portanto, não realizamos nenhum tratamento."
   ]
  },
  {
   "cell_type": "code",
   "execution_count": 6,
   "id": "da0a4766",
   "metadata": {},
   "outputs": [
    {
     "data": {
      "text/plain": [
       "Id              0\n",
       "Regiao          0\n",
       "Prima           0\n",
       "CustoProduto    0\n",
       "Pmaquinabase    0\n",
       "Pmaquina1       0\n",
       "Pmaquina2       0\n",
       "Pmaquina3       0\n",
       "Cmaquina1       0\n",
       "Cmaquina2       0\n",
       "Cmaquina3       0\n",
       "Resposta        0\n",
       "dtype: int64"
      ]
     },
     "execution_count": 6,
     "metadata": {},
     "output_type": "execute_result"
    }
   ],
   "source": [
    "# Mostra a quantidade de valores nulos em cada coluna\n",
    "data.isnull().sum()"
   ]
  },
  {
   "cell_type": "code",
   "execution_count": null,
   "id": "dc5f393e",
   "metadata": {},
   "outputs": [],
   "source": []
  },
  {
   "cell_type": "code",
   "execution_count": null,
   "id": "e488746b",
   "metadata": {},
   "outputs": [],
   "source": []
  },
  {
   "cell_type": "code",
   "execution_count": null,
   "id": "008b2633",
   "metadata": {},
   "outputs": [],
   "source": []
  },
  {
   "cell_type": "code",
   "execution_count": null,
   "id": "e8136c49",
   "metadata": {},
   "outputs": [],
   "source": []
  },
  {
   "cell_type": "code",
   "execution_count": null,
   "id": "61e82452",
   "metadata": {},
   "outputs": [],
   "source": []
  },
  {
   "cell_type": "code",
   "execution_count": null,
   "id": "502fd049",
   "metadata": {},
   "outputs": [],
   "source": []
  },
  {
   "cell_type": "code",
   "execution_count": null,
   "id": "b652598f",
   "metadata": {},
   "outputs": [],
   "source": []
  },
  {
   "cell_type": "code",
   "execution_count": null,
   "id": "0ead5b5f",
   "metadata": {},
   "outputs": [],
   "source": []
  },
  {
   "cell_type": "code",
   "execution_count": null,
   "id": "40418877",
   "metadata": {},
   "outputs": [],
   "source": []
  },
  {
   "cell_type": "code",
   "execution_count": null,
   "id": "c864d3b1",
   "metadata": {},
   "outputs": [],
   "source": []
  },
  {
   "cell_type": "code",
   "execution_count": null,
   "id": "8c72c30b",
   "metadata": {},
   "outputs": [],
   "source": []
  },
  {
   "cell_type": "code",
   "execution_count": null,
   "id": "2c927c19",
   "metadata": {},
   "outputs": [],
   "source": []
  },
  {
   "cell_type": "code",
   "execution_count": null,
   "id": "b82a5480",
   "metadata": {},
   "outputs": [],
   "source": []
  },
  {
   "cell_type": "code",
   "execution_count": null,
   "id": "9150372c",
   "metadata": {},
   "outputs": [],
   "source": []
  },
  {
   "cell_type": "code",
   "execution_count": null,
   "id": "0061609f",
   "metadata": {},
   "outputs": [],
   "source": []
  },
  {
   "cell_type": "code",
   "execution_count": null,
   "id": "b1b608c4",
   "metadata": {},
   "outputs": [],
   "source": []
  },
  {
   "cell_type": "code",
   "execution_count": null,
   "id": "87520a5d",
   "metadata": {},
   "outputs": [],
   "source": []
  },
  {
   "cell_type": "code",
   "execution_count": null,
   "id": "da5f40b7",
   "metadata": {},
   "outputs": [],
   "source": []
  }
 ],
 "metadata": {
  "hide_input": false,
  "kernelspec": {
   "display_name": "Python 3 (ipykernel)",
   "language": "python",
   "name": "python3"
  },
  "language_info": {
   "codemirror_mode": {
    "name": "ipython",
    "version": 3
   },
   "file_extension": ".py",
   "mimetype": "text/x-python",
   "name": "python",
   "nbconvert_exporter": "python",
   "pygments_lexer": "ipython3",
   "version": "3.9.7"
  },
  "toc": {
   "base_numbering": 1,
   "nav_menu": {},
   "number_sections": true,
   "sideBar": true,
   "skip_h1_title": true,
   "title_cell": "Table of Contents",
   "title_sidebar": "Contents",
   "toc_cell": true,
   "toc_position": {},
   "toc_section_display": true,
   "toc_window_display": true
  }
 },
 "nbformat": 4,
 "nbformat_minor": 5
}
